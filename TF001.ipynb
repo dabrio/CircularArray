{
  "nbformat": 4,
  "nbformat_minor": 0,
  "metadata": {
    "colab": {
      "name": "TF001.ipynb",
      "provenance": [],
      "authorship_tag": "ABX9TyOspdIqvApgw6OI8azmojFL",
      "include_colab_link": true
    },
    "kernelspec": {
      "name": "python3",
      "display_name": "Python 3"
    }
  },
  "cells": [
    {
      "cell_type": "markdown",
      "metadata": {
        "id": "view-in-github",
        "colab_type": "text"
      },
      "source": [
        "<a href=\"https://colab.research.google.com/github/dabrio/CircularArray/blob/master/TF001.ipynb\" target=\"_parent\"><img src=\"https://colab.research.google.com/assets/colab-badge.svg\" alt=\"Open In Colab\"/></a>"
      ]
    },
    {
      "cell_type": "markdown",
      "metadata": {
        "id": "MrR9qTvXM1Pv"
      },
      "source": [
        "### **TENSORFLOW**"
      ]
    },
    {
      "cell_type": "markdown",
      "metadata": {
        "id": "oIrHeg44MpRw"
      },
      "source": [
        "%tensorflow_version 2.x  # this line is not required unless you are in a notebook"
      ]
    },
    {
      "cell_type": "code",
      "metadata": {
        "id": "BxurjbUgDfxl",
        "colab": {
          "base_uri": "https://localhost:8080/"
        },
        "outputId": "716143ed-656c-4de3-d480-dfc7c4c2b57b"
      },
      "source": [
        "%tensorflow_version 2.x # this line is not required unless you are in a notebook\r\n",
        "#(It´s work without its line above)\r\n",
        "import tensorflow as tf\r\n",
        "import numpy as np\r\n",
        "\r\n",
        "def func(h):\r\n",
        "  print(h)\r\n",
        "\r\n",
        "func(\"hello\")\r\n",
        "print(tf.version)\r\n",
        "\r\n"
      ],
      "execution_count": null,
      "outputs": [
        {
          "output_type": "stream",
          "text": [
            "`%tensorflow_version` only switches the major version: 1.x or 2.x.\n",
            "You set: `2.x # this line is not required unless you are in a notebook`. This will be interpreted as: `2.x`.\n",
            "\n",
            "\n",
            "TensorFlow is already loaded. Please restart the runtime to change versions.\n",
            "hello\n",
            "<module 'tensorflow._api.v2.version' from '/usr/local/lib/python3.7/dist-packages/tensorflow/_api/v2/version/__init__.py'>\n"
          ],
          "name": "stdout"
        }
      ]
    },
    {
      "cell_type": "markdown",
      "metadata": {
        "id": "7xAIHAXfZ2Sy"
      },
      "source": [
        "Creating Tensors / Rank / Shapes"
      ]
    },
    {
      "cell_type": "code",
      "metadata": {
        "colab": {
          "base_uri": "https://localhost:8080/"
        },
        "id": "RK8HgE2AZ6Ej",
        "outputId": "b4a14b2f-5f08-43aa-b42e-703482a042c2"
      },
      "source": [
        "string = tf.Variable(\"this is a string\", tf.string) \r\n",
        "number = tf.Variable(324, tf.int16)\r\n",
        "floating = tf.Variable(3.567, tf.float64)\r\n",
        "tf.print(string, number, floating)\r\n",
        "print()\r\n",
        "\r\n",
        "# -----  tensorflow rank  -----\r\n",
        "rank1_tensor = tf.Variable([\"Test\"], tf.string) \r\n",
        "rank2_tensor = tf.Variable([[\"test\", \"ok\"], [\"test\", \"yes\"]], tf.string)\r\n",
        "print('...rank1_tensor...')\r\n",
        "tf.print('rank1  = ', rank1_tensor)\r\n",
        "print('rank1_rank = ', tf.rank(rank1_tensor))\r\n",
        "print()\r\n",
        "#tf.rank(rank1_tensor)\r\n",
        "print('...rank2_tensor...')\r\n",
        "tf.print('rank2 = ', rank2_tensor)\r\n",
        "tf.print('rank2_rank = ', tf.rank(rank2_tensor))\r\n",
        "print('......')\r\n",
        "print()\r\n",
        "print('............number.............')\r\n",
        "tf.rank(number)\r\n",
        "\r\n",
        "# -----  tensorflow shapes  -----\r\n",
        "print()\r\n",
        "print('............shapes.............')\r\n",
        "rank2_tensor.shape\r\n",
        "print()\r\n",
        "print('......yyyyyyy.........')"
      ],
      "execution_count": null,
      "outputs": [
        {
          "output_type": "stream",
          "text": [
            "\"this is a string\" 324 3.567\n",
            "\n",
            "...rank1_tensor...\n",
            "rank1  =  [\"Test\"]\n",
            "rank1_rank =  tf.Tensor(1, shape=(), dtype=int32)\n",
            "\n",
            "...rank2_tensor...\n",
            "rank2 =  [[\"test\" \"ok\"]\n",
            " [\"test\" \"yes\"]]\n",
            "rank2_rank =  2\n",
            "......\n",
            "\n",
            "............number.............\n",
            "\n",
            "............shapes.............\n",
            "\n",
            "......yyyyyyy.........\n"
          ],
          "name": "stdout"
        }
      ]
    }
  ]
}